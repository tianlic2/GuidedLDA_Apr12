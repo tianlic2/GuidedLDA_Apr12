{
 "cells": [
  {
   "cell_type": "markdown",
   "metadata": {},
   "source": [
    "## To check whether my interpretation of the stem word is right. For example, whether 'popul' refers to 'population'."
   ]
  },
  {
   "cell_type": "code",
   "execution_count": 12,
   "metadata": {},
   "outputs": [],
   "source": [
    "def print_stemform(seedwords):\n",
    "    for word in seedwords:\n",
    "        print(word+':',porter.stem(word))"
   ]
  },
  {
   "cell_type": "code",
   "execution_count": 18,
   "metadata": {},
   "outputs": [
    {
     "name": "stdout",
     "output_type": "stream",
     "text": [
      "environment: environ\n",
      "greenhouse: greenhous\n",
      "carbon: carbon\n",
      "emission: emiss\n",
      "climate: climat\n",
      "better: better\n",
      "planet: planet\n",
      "save: save\n",
      "reduce: reduc\n",
      "system: system\n",
      "future: futur\n",
      "land: land\n",
      "plastic: plastic\n"
     ]
    }
   ],
   "source": [
    "environment_seed_words = ['environment','greenhouse','carbon','emission',\n",
    "                         'climate','better','planet','save','reduce','system','future',\n",
    "                         'land','plastic']\n",
    "print_stemform(environment_seed_words)"
   ]
  },
  {
   "cell_type": "code",
   "execution_count": 16,
   "metadata": {
    "scrolled": true
   },
   "outputs": [
    {
     "name": "stdout",
     "output_type": "stream",
     "text": [
      "plant: plant\n",
      "vegan: vegan\n",
      "vegetarian: vegetarian\n",
      "animal: anim\n",
      "alternative: altern\n",
      "protein: protein\n"
     ]
    }
   ],
   "source": [
    "vegan_seed_words = ['plant','vegan','vegetarian','animal','alternative','protein']\n",
    "print_stemform(vegan_seed_words)"
   ]
  },
  {
   "cell_type": "code",
   "execution_count": 55,
   "metadata": {},
   "outputs": [
    {
     "name": "stdout",
     "output_type": "stream",
     "text": [
      "without: without\n",
      "animal: anim\n",
      "harm: harm\n",
      "slaughter: slaughter\n",
      "cruelty: cruelti\n",
      "cruelties: cruelti\n",
      "welfare: welfar\n",
      "kill: kill\n",
      "cow: cow\n",
      "human: human\n",
      "farm: farm\n",
      "save: save\n",
      "free: free\n"
     ]
    }
   ],
   "source": [
    "animal_welfare = ['without','animal','harm','slaughter','cruelty','cruelties','welfare','kill','cow',\n",
    "                 'human','farm','save','free']\n",
    "print_stemform(animal_welfare)"
   ]
  },
  {
   "cell_type": "code",
   "execution_count": 56,
   "metadata": {},
   "outputs": [
    {
     "name": "stdout",
     "output_type": "stream",
     "text": [
      "consumption: consumpt\n",
      "consumpt: consumpt\n",
      "population: popul\n",
      "demand: demand\n",
      "security: secur\n",
      "waste: wast\n",
      "grow: grow\n",
      "global: global\n",
      "sustain: sustain\n",
      "need: need\n",
      "solution: solut\n",
      "consume: consum\n",
      "consumer: consum\n",
      "eat: eat\n",
      "growth: growth\n",
      "feed: feed\n"
     ]
    }
   ],
   "source": [
    "food_security = ['consumption','consumpt','population','demand','security','waste','grow','global',\n",
    "                'sustain','need','solution','consume','consumer','eat','growth','feed']\n",
    "print_stemform(food_security)"
   ]
  },
  {
   "cell_type": "code",
   "execution_count": 22,
   "metadata": {
    "scrolled": true
   },
   "outputs": [
    {
     "name": "stdout",
     "output_type": "stream",
     "text": [
      "antibiotic: antibiot\n",
      "antimicrobia: antimicrobia\n",
      "resistant: resist\n",
      "safe: safe\n",
      "contaminant: contamin\n",
      "free: free\n",
      "health: health\n",
      "overuse: overus\n",
      "disease: diseas\n",
      "use: use\n",
      "metal: metal\n",
      "bacteria: bacteria\n"
     ]
    }
   ],
   "source": [
    "food_safety = ['antibiotic','antimicrobia','resistant','safe','contaminant','free',\n",
    "              'health','overuse','disease','use','metal','bacteria']\n",
    "print_stemform(food_safety)"
   ]
  },
  {
   "cell_type": "code",
   "execution_count": 24,
   "metadata": {},
   "outputs": [
    {
     "name": "stdout",
     "output_type": "stream",
     "text": [
      "regulatory: regulatori\n",
      "usda: usda\n",
      "fda: fda\n",
      "safe: safe\n",
      "joint: joint\n",
      "label: label\n"
     ]
    }
   ],
   "source": [
    "regulation = ['regulatory','usda','fda','safe','joint','label']\n",
    "print_stemform(regulation)"
   ]
  },
  {
   "cell_type": "code",
   "execution_count": 25,
   "metadata": {},
   "outputs": [
    {
     "name": "stdout",
     "output_type": "stream",
     "text": [
      "pandemic: pandem\n",
      "covid: covid\n",
      "risk: risk\n",
      "coronavirus: coronaviru\n"
     ]
    }
   ],
   "source": [
    "pandemic = ['pandemic','covid','risk','coronavirus']\n",
    "print_stemform(pandemic)"
   ]
  },
  {
   "cell_type": "code",
   "execution_count": 27,
   "metadata": {},
   "outputs": [
    {
     "name": "stdout",
     "output_type": "stream",
     "text": [
      "industry: industri\n",
      "supply: suppli\n",
      "conventional: convent\n",
      "system: system\n",
      "chain: chain\n",
      "company: compani\n",
      "market: market\n",
      "consume: consum\n",
      "store: store\n",
      "grocery: groceri\n",
      "product: product\n",
      "demand: demand\n",
      "grow: grow\n",
      "launch: launch\n",
      "scale: scale\n",
      "cost: cost\n",
      "sell: sell\n"
     ]
    }
   ],
   "source": [
    "industry_market = ['industry','supply','conventional','system','chain','company','market','consume',\n",
    "                  'store','grocery','product','demand','grow','launch','scale','cost','sell']\n",
    "print_stemform(industry_market)"
   ]
  },
  {
   "cell_type": "code",
   "execution_count": 28,
   "metadata": {},
   "outputs": [
    {
     "name": "stdout",
     "output_type": "stream",
     "text": [
      "seafood: seafood\n",
      "ocean: ocean\n",
      "fish: fish\n",
      "shrimp: shrimp\n",
      "aquaculture: aquacultur\n",
      "salmon: salmon\n",
      "wild: wild\n",
      "lobster: lobster\n",
      "tuna: tuna\n",
      "sushi: sushi\n",
      "crusacean: crusacean\n"
     ]
    }
   ],
   "source": [
    "seafood = ['seafood','ocean','fish','shrimp','aquaculture','salmon','wild',\n",
    "          'lobster','tuna','sushi','crusacean']\n",
    "print_stemform(seafood)"
   ]
  },
  {
   "cell_type": "code",
   "execution_count": 30,
   "metadata": {},
   "outputs": [
    {
     "name": "stdout",
     "output_type": "stream",
     "text": [
      "chicken: chicken\n",
      "poultry: poultri\n",
      "duck: duck\n",
      "texture: textur\n",
      "juicy: juici\n",
      "test: test\n",
      "delicious: delici\n",
      "tender: tender\n",
      "burger: burger\n",
      "steak: steak\n",
      "meatball: meatbal\n",
      "beef: beef\n",
      "suasage: suasag\n",
      "culinary: culinari\n",
      "favorite: favorit\n",
      "taste: tast\n",
      "tasty: tasti\n"
     ]
    }
   ],
   "source": [
    "poultry_meat = ['chicken','poultry','duck','texture','juicy','test','delicious',\n",
    "               'tender','burger','steak','meatball','beef','suasage','culinary','favorite',\n",
    "               'taste','tasty']\n",
    "print_stemform(poultry_meat)"
   ]
  },
  {
   "cell_type": "code",
   "execution_count": 31,
   "metadata": {},
   "outputs": [
    {
     "name": "stdout",
     "output_type": "stream",
     "text": [
      "stem: stem\n",
      "muscle: muscl\n",
      "division: divis\n",
      "biology: biolog\n",
      "cellular: cellular\n",
      "technology: technolog\n",
      "agriculture: agricultur\n",
      "creat: creat\n",
      "made: made\n",
      "biotech: biotech\n",
      "tech: tech\n"
     ]
    }
   ],
   "source": [
    "process = ['stem','muscle','division','biology','cellular','technology','agriculture',\n",
    "          'creat','made','biotech','tech']\n",
    "print_stemform(process)"
   ]
  },
  {
   "cell_type": "code",
   "execution_count": 33,
   "metadata": {},
   "outputs": [
    {
     "name": "stdout",
     "output_type": "stream",
     "text": [
      "seri: seri\n",
      "funding: fund\n",
      "raise: rais\n",
      "dollar: dollar\n",
      "pound: pound\n",
      "round: round\n",
      "startup: startup\n",
      "opportunity: opportun\n",
      "first: first\n",
      "seed: seed\n",
      "accelerate: acceler\n",
      "announce: announc\n",
      "happy: happi\n",
      "thrilled: thrill\n",
      "excited: excit\n",
      "pleased: pleas\n",
      "contribution: contribut\n",
      "honored: honor\n",
      "proud: proud\n",
      "statement: statement\n"
     ]
    }
   ],
   "source": [
    "fundraising = ['seri','funding','raise','dollar','pound','round','startup','opportunity',\n",
    "              'first','seed','accelerate','announce','happy','thrilled','excited','pleased',\n",
    "              'contribution','honored','proud','statement']\n",
    "print_stemform(fundraising)"
   ]
  },
  {
   "cell_type": "code",
   "execution_count": 35,
   "metadata": {},
   "outputs": [
    {
     "name": "stdout",
     "output_type": "stream",
     "text": [
      "conference: confer\n",
      "invite: invit\n",
      "shoutout: shoutout\n",
      "support: support\n",
      "help: help\n",
      "question: question\n",
      "mention: mention\n"
     ]
    }
   ],
   "source": [
    "appreciation = ['conference','invite','shoutout','support','help','question','mention']\n",
    "print_stemform(appreciation)"
   ]
  },
  {
   "cell_type": "code",
   "execution_count": 36,
   "metadata": {},
   "outputs": [
    {
     "name": "stdout",
     "output_type": "stream",
     "text": [
      "conference: confer\n",
      "register: regist\n",
      "live: live\n",
      "sysposium: sysposium\n",
      "stream: stream\n",
      "livestream: livestream\n",
      "summit: summit\n",
      "founder: founder\n",
      "talk: talk\n",
      "speak: speak\n",
      "ceo: ceo\n",
      "tomorrow: tomorrow\n"
     ]
    }
   ],
   "source": [
    "conference = ['conference','register','live','sysposium','stream','livestream','summit',\n",
    "               'founder','talk','speak','ceo','tomorrow']\n",
    "print_stemform(conference)"
   ]
  },
  {
   "cell_type": "code",
   "execution_count": 37,
   "metadata": {},
   "outputs": [
    {
     "name": "stdout",
     "output_type": "stream",
     "text": [
      "hire: hire\n",
      "join: join\n",
      "team: team\n",
      "bring: bring\n",
      "welcome: welcom\n",
      "work: work\n",
      "apply: appli\n",
      "research: research\n",
      "specialist: specialist\n",
      "student: student\n",
      "career: career\n",
      "position: posit\n"
     ]
    }
   ],
   "source": [
    "hiring = ['hire','join','team','bring','welcome','work','apply','research',\n",
    "         'specialist','student','career','position']\n",
    "print_stemform(hiring)"
   ]
  },
  {
   "cell_type": "code",
   "execution_count": 38,
   "metadata": {},
   "outputs": [
    {
     "name": "stdout",
     "output_type": "stream",
     "text": [
      "congrats: congrat\n",
      "congratulation: congratul\n",
      "list: list\n",
      "award: award\n",
      "winner: winner\n",
      "finalist: finalist\n",
      "parter: parter\n",
      "prize: prize\n"
     ]
    }
   ],
   "source": [
    "congratulation = ['congrats','congratulation','list','award','winner','finalist',\n",
    "                 'parter','prize']\n",
    "print_stemform(congratulation)"
   ]
  },
  {
   "cell_type": "code",
   "execution_count": 40,
   "metadata": {},
   "outputs": [
    {
     "name": "stdout",
     "output_type": "stream",
     "text": [
      "check: check\n",
      "post: post\n",
      "paper: paper\n",
      "interview: interview\n",
      "article: articl\n",
      "blog: blog\n",
      "news: news\n",
      "breaking: break\n",
      "read: read\n",
      "latest: latest\n",
      "watch: watch\n",
      "podcast: podcast\n",
      "listen: listen\n",
      "episode: episod\n",
      "story: stori\n",
      "coverage: coverag\n",
      "campaign: campaign\n",
      "video: video\n",
      "singapore: singapor\n",
      "vote: vote\n",
      "panel: panel\n",
      "chat: chat\n",
      "report: report\n",
      "ceo: ceo\n",
      "media: media\n",
      "presentation: present\n"
     ]
    }
   ],
   "source": [
    "media = ['check','post','paper','interview','article','blog','news','breaking','read',\n",
    "        'latest','watch','podcast','listen','episode','story','coverage','campaign',\n",
    "        'video','singapore','vote','panel','chat','report','ceo','media','presentation']\n",
    "print_stemform(media)"
   ]
  },
  {
   "cell_type": "markdown",
   "metadata": {},
   "source": [
    "### I think my interpretation of the stem words is right."
   ]
  }
 ],
 "metadata": {
  "kernelspec": {
   "display_name": "Python 3",
   "language": "python",
   "name": "python3"
  },
  "language_info": {
   "codemirror_mode": {
    "name": "ipython",
    "version": 3
   },
   "file_extension": ".py",
   "mimetype": "text/x-python",
   "name": "python",
   "nbconvert_exporter": "python",
   "pygments_lexer": "ipython3",
   "version": "3.7.4"
  }
 },
 "nbformat": 4,
 "nbformat_minor": 2
}
