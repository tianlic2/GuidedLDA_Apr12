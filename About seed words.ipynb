{
 "cells": [
  {
   "cell_type": "markdown",
   "metadata": {},
   "source": [
    "## About Stemming"
   ]
  },
  {
   "cell_type": "code",
   "execution_count": 1,
   "metadata": {},
   "outputs": [],
   "source": [
    "from nltk.stem.porter import PorterStemmer\n",
    "porter = PorterStemmer()"
   ]
  },
  {
   "cell_type": "code",
   "execution_count": 2,
   "metadata": {},
   "outputs": [
    {
     "data": {
      "text/plain": [
       "'environ'"
      ]
     },
     "execution_count": 2,
     "metadata": {},
     "output_type": "execute_result"
    }
   ],
   "source": [
    "porter.stem('environment')"
   ]
  },
  {
   "cell_type": "code",
   "execution_count": 3,
   "metadata": {},
   "outputs": [
    {
     "data": {
      "text/plain": [
       "'environment'"
      ]
     },
     "execution_count": 3,
     "metadata": {},
     "output_type": "execute_result"
    }
   ],
   "source": [
    "porter.stem('environmental')"
   ]
  },
  {
   "cell_type": "code",
   "execution_count": 4,
   "metadata": {},
   "outputs": [
    {
     "data": {
      "text/plain": [
       "'climatechang'"
      ]
     },
     "execution_count": 4,
     "metadata": {},
     "output_type": "execute_result"
    }
   ],
   "source": [
    "porter.stem('climatechange')"
   ]
  },
  {
   "cell_type": "code",
   "execution_count": 5,
   "metadata": {},
   "outputs": [
    {
     "data": {
      "text/plain": [
       "'consum'"
      ]
     },
     "execution_count": 5,
     "metadata": {},
     "output_type": "execute_result"
    }
   ],
   "source": [
    "porter.stem('consumer')"
   ]
  },
  {
   "cell_type": "code",
   "execution_count": 6,
   "metadata": {},
   "outputs": [
    {
     "data": {
      "text/plain": [
       "'consum'"
      ]
     },
     "execution_count": 6,
     "metadata": {},
     "output_type": "execute_result"
    }
   ],
   "source": [
    "porter.stem('consume')"
   ]
  },
  {
   "cell_type": "markdown",
   "metadata": {},
   "source": [
    "we can see after stemming, `'environment'` will be converted to `'environ'`.`'environmental'` will be converted to `'environment'`. How seed words work is different from Boolean search. Let's say we have two different forms of words: one is original form, which appears in the data before text-cleaning. The other is stem form, which appears in the data after text cleaning, and this form is also the form we used in guidedLDA model (seed words & our corpus). Maybe I misused the word `capture`, which caused misunderstanding, sorry for that. The seed words and words in our corpus are one-to-one corresponding. `'environ'` can only capture `'environ'` in our corpus. Each seed word can only capture **one** word in corpus. However, `'environ'` is not the word we want, we need to interpret what it refers to in the original form, maybe `'environment'` and `'environmental'`?. Here is the problem, sometimes a stem word can refer to only one word, but sometimes can refer to multiple words in original form. For example, `'consum'` can refer to both `'consumer'` and `'consume'`. When I said `'environment'` **can not** capture `'environment'` but can only capture `'environmental'`, I mean `'environment'` in the seed words does not refer to `'environment'` but refers to `'environmental'`. Same as `'climatechang'` and `'climate'`: `'climat'` can only capture `'climat'`, and it refers to `'climate'` in the original text. `'climatechang'` can only capture `'climatechang'` in the corpus, and it refers to `'climatechange'`, because the stem form of `'climatechange'` is `'climatechang'`, but not `'climat'`. One thing is for sure: no two words in the seed word list will refer to a same word in the original text. In short, **one seed word captured one word in corpus, one seed word may refers to one or more words in the original text.**"
   ]
  }
 ],
 "metadata": {
  "kernelspec": {
   "display_name": "Python 3",
   "language": "python",
   "name": "python3"
  },
  "language_info": {
   "codemirror_mode": {
    "name": "ipython",
    "version": 3
   },
   "file_extension": ".py",
   "mimetype": "text/x-python",
   "name": "python",
   "nbconvert_exporter": "python",
   "pygments_lexer": "ipython3",
   "version": "3.7.4"
  }
 },
 "nbformat": 4,
 "nbformat_minor": 2
}
